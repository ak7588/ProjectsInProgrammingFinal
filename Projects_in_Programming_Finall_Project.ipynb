{
  "nbformat": 4,
  "nbformat_minor": 0,
  "metadata": {
    "colab": {
      "name": "Projects-in-Programming-Finall-Project.ipynb",
      "provenance": [],
      "authorship_tag": "ABX9TyOX8G1VX4fVt66BgxKyDfG+",
      "include_colab_link": true
    },
    "kernelspec": {
      "name": "python3",
      "display_name": "Python 3"
    },
    "language_info": {
      "name": "python"
    }
  },
  "cells": [
    {
      "cell_type": "markdown",
      "metadata": {
        "id": "view-in-github",
        "colab_type": "text"
      },
      "source": [
        "<a href=\"https://colab.research.google.com/github/ak7588/ProjectsInProgrammingFinal/blob/main/Projects_in_Programming_Finall_Project.ipynb\" target=\"_parent\"><img src=\"https://colab.research.google.com/assets/colab-badge.svg\" alt=\"Open In Colab\"/></a>"
      ]
    },
    {
      "cell_type": "markdown",
      "source": [
        "\n",
        "# COVID-19 sentiment analysis and vaccination drive in the U.S.\n",
        "\n"
      ],
      "metadata": {
        "id": "Kp2F1Uxaiydx"
      }
    },
    {
      "cell_type": "code",
      "source": [
        "!pip install flask-ngrok\n",
        "\n",
        "!mkdir -p /drive/ngrok-ssh\n",
        "%cd /drive/ngrok-ssh\n",
        "!wget https://bin.equinox.io/c/4VmDzA7iaHb/ngrok-stable-linux-amd64.zip -O ngrok-stable-linux-amd64.zip\n",
        "!unzip -u ngrok-stable-linux-amd64.zip\n",
        "!cp /drive/ngrok-ssh/ngrok /ngrok\n",
        "!chmod +x /ngrok"
      ],
      "metadata": {
        "id": "CasJc4Jdki0x"
      },
      "execution_count": null,
      "outputs": []
    },
    {
      "cell_type": "code",
      "source": [
        "!/ngrok authtoken 274mdonVPNNB8WodHpjJXc5nZsR_2qrYZdh6cASQnw78p5MLv"
      ],
      "metadata": {
        "id": "Y2dxd52tkkON"
      },
      "execution_count": null,
      "outputs": []
    },
    {
      "cell_type": "code",
      "execution_count": null,
      "metadata": {
        "id": "bh4OzbWeiroE"
      },
      "outputs": [],
      "source": [
        "from flask import Flask\n",
        "from flask_ngrok import run_with_ngrok\n",
        "app = Flask(__name__)\n",
        "run_with_ngrok(app)\n",
        "from datetime import * \n",
        "from flask import render_template \n",
        "from flask import request\n",
        "\n",
        "app = Flask(__name__)\n",
        "\n",
        "@app.route('/')\n",
        "    # parse data here\n",
        "    import feedparser\n",
        "    url = \"https://www.wired.com/feed/rss\" \n",
        "    feed = feedparser.parse(url)\n",
        "    return render_template('wired.html', feed=feed[\"entries\"])\n",
        "\n",
        "@app.route('/sentiment')\n",
        "    def sentiment():\n",
        "      # do sentiment analysis here\n",
        "    return\n",
        "\n",
        "@app.route('/vaccination')\n",
        "    def vaccination():\n",
        "      # do vaccination rate analysis here\n",
        "    return\n",
        "\n",
        "@app.route('/results')\n",
        "    def results():\n",
        "      # do overall analysis here\n",
        "    return\n",
        "\n",
        "app.run(host='0.0.0.0', port=5000, debug=True) # anyone can connect, and we're running on port 5000"
      ]
    },
    {
      "cell_type": "markdown",
      "source": [
        "HTML"
      ],
      "metadata": {
        "id": "9BrK6ZF4j9wr"
      }
    },
    {
      "cell_type": "code",
      "source": [
        "from google.colab import drive\n",
        "drive.mount('/content/drive')"
      ],
      "metadata": {
        "id": "AOdMixJslPaK"
      },
      "execution_count": null,
      "outputs": []
    },
    {
      "cell_type": "code",
      "source": [
        "cd /content/drive/MyDrive/Colab Notebooks/"
      ],
      "metadata": {
        "id": "RWNrSNFElScS"
      },
      "execution_count": null,
      "outputs": []
    },
    {
      "cell_type": "code",
      "source": [
        "<!-- your html should go here --> \n",
        "\n",
        "<!DOCTYPE html>\n",
        "<html>\n",
        "<head>\n",
        "    <link rel=\"stylesheet\" href=\"https://stackpath.bootstrapcdn.com/bootstrap/4.1.3/css/bootstrap.min.css\" integrity=\"sha384-MCw98/SFnGE8fJT3GXwEOngsV7Zt27NXFoaoApmYm81iuXoPkFOJwJ8ERdknLPMO\" crossorigin=\"anonymous\">\n",
        "</head>\n",
        "<body>\n",
        "    <div class=\"container\">\n",
        "        <div class=\"panel panel-info\">\n",
        "            <div class=\"panel-heading\">\n",
        "                <h1 class=\"panel-title\">Wired Feed</h1>\n",
        "            </div>\n",
        "            <table  class=\"table table-striped table-bordered table-hover\">\n",
        "    <thead>\n",
        "      <tr>\n",
        "        <th>Title</th>\n",
        "        <th>Summary</th>\n",
        "        <th>Published</th\n",
        "      </tr>\n",
        "    </thead>\n",
        "    <tbody>\n",
        "      {% for i in feed %}\n",
        "    <tr>\n",
        "        <td>{{ i.title }}</td>\n",
        "        <td>{{ i.summary }}</td>\n",
        "        <td>{{ i.published }}</td>\n",
        "    </tr>\n",
        "      {% endfor %}\n",
        "    </tbody>\n",
        "    </table>\n",
        "  </div>\n",
        "</div>\n",
        "</body>\n",
        "</html>"
      ],
      "metadata": {
        "id": "VXQcZHb3j5_A"
      },
      "execution_count": null,
      "outputs": []
    }
  ]
}