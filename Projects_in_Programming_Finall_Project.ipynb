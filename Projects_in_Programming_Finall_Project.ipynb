{
  "nbformat": 4,
  "nbformat_minor": 0,
  "metadata": {
    "colab": {
      "name": "Projects-in-Programming-Finall-Project.ipynb",
      "provenance": [],
      "authorship_tag": "ABX9TyMd58E/hOmMuKIvE1XV8dVm",
      "include_colab_link": true
    },
    "kernelspec": {
      "name": "python3",
      "display_name": "Python 3"
    },
    "language_info": {
      "name": "python"
    }
  },
  "cells": [
    {
      "cell_type": "markdown",
      "metadata": {
        "id": "view-in-github",
        "colab_type": "text"
      },
      "source": [
        "<a href=\"https://colab.research.google.com/github/ak7588/ProjectsInProgrammingFinal/blob/main/Projects_in_Programming_Finall_Project.ipynb\" target=\"_parent\"><img src=\"https://colab.research.google.com/assets/colab-badge.svg\" alt=\"Open In Colab\"/></a>"
      ]
    },
    {
      "cell_type": "markdown",
      "source": [
        "\n",
        "# COVID-19 sentiment analysis and vaccination drive in the U.S.\n",
        "\n"
      ],
      "metadata": {
        "id": "Kp2F1Uxaiydx"
      }
    },
    {
      "cell_type": "code",
      "execution_count": null,
      "metadata": {
        "id": "bh4OzbWeiroE"
      },
      "outputs": [],
      "source": [
        "\n"
      ]
    }
  ]
}